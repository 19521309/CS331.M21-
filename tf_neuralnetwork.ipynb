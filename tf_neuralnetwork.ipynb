{
  "nbformat": 4,
  "nbformat_minor": 0,
  "metadata": {
    "colab": {
      "name": "tf_neuralnetwork.ipynb",
      "provenance": [],
      "authorship_tag": "ABX9TyOnAU3twizXVP4uBzPMZSrw",
      "include_colab_link": true
    },
    "kernelspec": {
      "name": "python3",
      "display_name": "Python 3"
    },
    "language_info": {
      "name": "python"
    }
  },
  "cells": [
    {
      "cell_type": "markdown",
      "metadata": {
        "id": "view-in-github",
        "colab_type": "text"
      },
      "source": [
        "<a href=\"https://colab.research.google.com/github/19521309/CS331.M21-/blob/main/tf_neuralnetwork.ipynb\" target=\"_parent\"><img src=\"https://colab.research.google.com/assets/colab-badge.svg\" alt=\"Open In Colab\"/></a>"
      ]
    },
    {
      "cell_type": "code",
      "execution_count": 3,
      "metadata": {
        "id": "d9WjU4A9TCcw"
      },
      "outputs": [],
      "source": [
        "# Import required libraries\n",
        "import tensorflow as tf\n",
        "import pandas as pd\n",
        "import matplotlib.pyplot as plt\n",
        "import numpy as np"
      ]
    },
    {
      "cell_type": "code",
      "source": [
        "x = np.random.normal(0,0.25,(2,500))\n",
        "noise = np.random.normal(0,0.1,500)\n",
        "x = x+noise"
      ],
      "metadata": {
        "id": "TbGG_HLvTGyh"
      },
      "execution_count": 4,
      "outputs": []
    },
    {
      "cell_type": "code",
      "source": [
        "theta = np.linspace(0,2*np.pi,500)\n",
        "y = np.array([np.cos(theta),np.sin(theta)]) + noise"
      ],
      "metadata": {
        "id": "6y61kS-RTWqQ"
      },
      "execution_count": 5,
      "outputs": []
    },
    {
      "cell_type": "code",
      "source": [
        "x_train = np.hstack((x,y))\n",
        "print(x_train.shape)\n",
        "y_train = np.hstack((np.ones((1,100)),np.zeros((1,100))))\n",
        "print(y_train.shape)\n",
        "plt.plot(x[0],x[1],\"ro\")\n",
        "plt.plot(y[0],y[1],\"bo\")"
      ],
      "metadata": {
        "colab": {
          "base_uri": "https://localhost:8080/",
          "height": 319
        },
        "id": "DSWzIfdrTr9M",
        "outputId": "ff88a109-388d-48ef-e9b7-b652bef2867f"
      },
      "execution_count": 7,
      "outputs": [
        {
          "output_type": "stream",
          "name": "stdout",
          "text": [
            "(2, 1000)\n",
            "(1, 200)\n"
          ]
        },
        {
          "output_type": "execute_result",
          "data": {
            "text/plain": [
              "[<matplotlib.lines.Line2D at 0x7f54bd79c210>]"
            ]
          },
          "metadata": {},
          "execution_count": 7
        },
        {
          "output_type": "display_data",
          "data": {
            "text/plain": [
              "<Figure size 432x288 with 1 Axes>"
            ],
            "image/png": "[encoded data removed]"
          },
          "metadata": {
            "needs_background": "light"
          }
        }
      ]
    },
    {
      "cell_type": "code",
      "source": [
        "# Create training and test sets\n",
        "from sklearn.model_selection import train_test_split\n",
        "X_train, X_test, y_train, y_test = train_test_split(x, \n",
        "                                                    y, \n",
        "                                                    test_size=0.2, \n",
        "                                                    random_state=42) # set random state for reproducible splits"
      ],
      "metadata": {
        "id": "HeKf8CwdUyft"
      },
      "execution_count": 11,
      "outputs": []
    },
    {
      "cell_type": "code",
      "source": [
        "# Set random seed\n",
        "tf.random.set_seed(42)\n",
        "\n",
        "# Create a new model (same as model_2)\n",
        "insurance_model = tf.keras.Sequential([\n",
        "  tf.keras.layers.Dense(1),\n",
        "  tf.keras.layers.Dense(1)\n",
        "])\n",
        "\n",
        "# Compile the model\n",
        "insurance_model.compile(loss=tf.keras.losses.mae,\n",
        "                        optimizer=tf.keras.optimizers.SGD(),\n",
        "                        metrics=['mae'])\n",
        "\n",
        "# Fit the model\n",
        "insurance_model.fit(X_train, y_train, epochs=100)"
      ],
      "metadata": {
        "colab": {
          "base_uri": "https://localhost:8080/"
        },
        "id": "edOtdFgpUblA",
        "outputId": "443c7c6c-da62-4bf6-f654-a7f9c0d10a08"
      },
      "execution_count": 13,
      "outputs": [
        {
          "output_type": "stream",
          "name": "stdout",
          "text": [
            "Epoch 1/100\n",
            "1/1 [==============================] - 0s 478ms/step - loss: 0.6374 - mae: 0.6374\n",
            "Epoch 2/100\n",
            "1/1 [==============================] - 0s 7ms/step - loss: 0.6370 - mae: 0.6370\n",
            "Epoch 3/100\n",
            "1/1 [==============================] - 0s 7ms/step - loss: 0.6366 - mae: 0.6366\n",
            "Epoch 4/100\n",
            "1/1 [==============================] - 0s 7ms/step - loss: 0.6362 - mae: 0.6362\n",
            "Epoch 5/100\n",
            "1/1 [==============================] - 0s 7ms/step - loss: 0.6359 - mae: 0.6359\n",
            "Epoch 6/100\n",
            "1/1 [==============================] - 0s 7ms/step - loss: 0.6357 - mae: 0.6357\n",
            "Epoch 7/100\n",
            "1/1 [==============================] - 0s 5ms/step - loss: 0.6356 - mae: 0.6356\n",
            "Epoch 8/100\n",
            "1/1 [==============================] - 0s 6ms/step - loss: 0.6355 - mae: 0.6355\n",
            "Epoch 9/100\n",
            "1/1 [==============================] - 0s 8ms/step - loss: 0.6354 - mae: 0.6354\n",
            "Epoch 10/100\n",
            "1/1 [==============================] - 0s 6ms/step - loss: 0.6353 - mae: 0.6353\n",
            "Epoch 11/100\n",
            "1/1 [==============================] - 0s 7ms/step - loss: 0.6353 - mae: 0.6353\n",
            "Epoch 12/100\n",
            "1/1 [==============================] - 0s 8ms/step - loss: 0.6353 - mae: 0.6353\n",
            "Epoch 13/100\n",
            "1/1 [==============================] - 0s 6ms/step - loss: 0.6353 - mae: 0.6353\n",
            "Epoch 14/100\n",
            "1/1 [==============================] - 0s 6ms/step - loss: 0.6353 - mae: 0.6353\n",
            "Epoch 15/100\n",
            "1/1 [==============================] - 0s 5ms/step - loss: 0.6352 - mae: 0.6352\n",
            "Epoch 16/100\n",
            "1/1 [==============================] - 0s 6ms/step - loss: 0.6352 - mae: 0.6352\n",
            "Epoch 17/100\n",
            "1/1 [==============================] - 0s 6ms/step - loss: 0.6352 - mae: 0.6352\n",
            "Epoch 18/100\n",
            "1/1 [==============================] - 0s 8ms/step - loss: 0.6352 - mae: 0.6352\n",
            "Epoch 19/100\n",
            "1/1 [==============================] - 0s 6ms/step - loss: 0.6352 - mae: 0.6352\n",
            "Epoch 20/100\n",
            "1/1 [==============================] - 0s 10ms/step - loss: 0.6352 - mae: 0.6352\n",
            "Epoch 21/100\n",
            "1/1 [==============================] - 0s 7ms/step - loss: 0.6352 - mae: 0.6352\n",
            "Epoch 22/100\n",
            "1/1 [==============================] - 0s 6ms/step - loss: 0.6352 - mae: 0.6352\n",
            "Epoch 23/100\n",
            "1/1 [==============================] - 0s 6ms/step - loss: 0.6352 - mae: 0.6352\n",
            "Epoch 24/100\n",
            "1/1 [==============================] - 0s 6ms/step - loss: 0.6351 - mae: 0.6351\n",
            "Epoch 25/100\n",
            "1/1 [==============================] - 0s 7ms/step - loss: 0.6351 - mae: 0.6351\n",
            "Epoch 26/100\n",
            "1/1 [==============================] - 0s 6ms/step - loss: 0.6351 - mae: 0.6351\n",
            "Epoch 27/100\n",
            "1/1 [==============================] - 0s 18ms/step - loss: 0.6351 - mae: 0.6351\n",
            "Epoch 28/100\n",
            "1/1 [==============================] - 0s 7ms/step - loss: 0.6351 - mae: 0.6351\n",
            "Epoch 29/100\n",
            "1/1 [==============================] - 0s 6ms/step - loss: 0.6351 - mae: 0.6351\n",
            "Epoch 30/100\n",
            "1/1 [==============================] - 0s 5ms/step - loss: 0.6351 - mae: 0.6351\n",
            "Epoch 31/100\n",
            "1/1 [==============================] - 0s 6ms/step - loss: 0.6351 - mae: 0.6351\n",
            "Epoch 32/100\n",
            "1/1 [==============================] - 0s 5ms/step - loss: 0.6350 - mae: 0.6350\n",
            "Epoch 33/100\n",
            "1/1 [==============================] - 0s 6ms/step - loss: 0.6350 - mae: 0.6350\n",
            "Epoch 34/100\n",
            "1/1 [==============================] - 0s 7ms/step - loss: 0.6350 - mae: 0.6350\n",
            "Epoch 35/100\n",
            "1/1 [==============================] - 0s 6ms/step - loss: 0.6350 - mae: 0.6350\n",
            "Epoch 36/100\n",
            "1/1 [==============================] - 0s 5ms/step - loss: 0.6350 - mae: 0.6350\n",
            "Epoch 37/100\n",
            "1/1 [==============================] - 0s 7ms/step - loss: 0.6350 - mae: 0.6350\n",
            "Epoch 38/100\n",
            "1/1 [==============================] - 0s 5ms/step - loss: 0.6350 - mae: 0.6350\n",
            "Epoch 39/100\n",
            "1/1 [==============================] - 0s 6ms/step - loss: 0.6350 - mae: 0.6350\n",
            "Epoch 40/100\n",
            "1/1 [==============================] - 0s 6ms/step - loss: 0.6350 - mae: 0.6350\n",
            "Epoch 41/100\n",
            "1/1 [==============================] - 0s 6ms/step - loss: 0.6350 - mae: 0.6350\n",
            "Epoch 42/100\n",
            "1/1 [==============================] - 0s 7ms/step - loss: 0.6350 - mae: 0.6350\n",
            "Epoch 43/100\n",
            "1/1 [==============================] - 0s 5ms/step - loss: 0.6350 - mae: 0.6350\n",
            "Epoch 44/100\n",
            "1/1 [==============================] - 0s 5ms/step - loss: 0.6350 - mae: 0.6350\n",
            "Epoch 45/100\n",
            "1/1 [==============================] - 0s 6ms/step - loss: 0.6350 - mae: 0.6350\n",
            "Epoch 46/100\n",
            "1/1 [==============================] - 0s 6ms/step - loss: 0.6350 - mae: 0.6350\n",
            "Epoch 47/100\n",
            "1/1 [==============================] - 0s 7ms/step - loss: 0.6350 - mae: 0.6350\n",
            "Epoch 48/100\n",
            "1/1 [==============================] - 0s 6ms/step - loss: 0.6350 - mae: 0.6350\n",
            "Epoch 49/100\n",
            "1/1 [==============================] - 0s 6ms/step - loss: 0.6350 - mae: 0.6350\n",
            "Epoch 50/100\n",
            "1/1 [==============================] - 0s 6ms/step - loss: 0.6350 - mae: 0.6350\n",
            "Epoch 51/100\n",
            "1/1 [==============================] - 0s 6ms/step - loss: 0.6350 - mae: 0.6350\n",
            "Epoch 52/100\n",
            "1/1 [==============================] - 0s 5ms/step - loss: 0.6350 - mae: 0.6350\n",
            "Epoch 53/100\n",
            "1/1 [==============================] - 0s 6ms/step - loss: 0.6350 - mae: 0.6350\n",
            "Epoch 54/100\n",
            "1/1 [==============================] - 0s 13ms/step - loss: 0.6350 - mae: 0.6350\n",
            "Epoch 55/100\n",
            "1/1 [==============================] - 0s 17ms/step - loss: 0.6350 - mae: 0.6350\n",
            "Epoch 56/100\n",
            "1/1 [==============================] - 0s 7ms/step - loss: 0.6350 - mae: 0.6350\n",
            "Epoch 57/100\n",
            "1/1 [==============================] - 0s 9ms/step - loss: 0.6350 - mae: 0.6350\n",
            "Epoch 58/100\n",
            "1/1 [==============================] - 0s 8ms/step - loss: 0.6350 - mae: 0.6350\n",
            "Epoch 59/100\n",
            "1/1 [==============================] - 0s 13ms/step - loss: 0.6350 - mae: 0.6350\n",
            "Epoch 60/100\n",
            "1/1 [==============================] - 0s 6ms/step - loss: 0.6350 - mae: 0.6350\n",
            "Epoch 61/100\n",
            "1/1 [==============================] - 0s 7ms/step - loss: 0.6350 - mae: 0.6350\n",
            "Epoch 62/100\n",
            "1/1 [==============================] - 0s 6ms/step - loss: 0.6350 - mae: 0.6350\n",
            "Epoch 63/100\n",
            "1/1 [==============================] - 0s 5ms/step - loss: 0.6350 - mae: 0.6350\n",
            "Epoch 64/100\n",
            "1/1 [==============================] - 0s 6ms/step - loss: 0.6350 - mae: 0.6350\n",
            "Epoch 65/100\n",
            "1/1 [==============================] - 0s 14ms/step - loss: 0.6350 - mae: 0.6350\n",
            "Epoch 66/100\n",
            "1/1 [==============================] - 0s 11ms/step - loss: 0.6350 - mae: 0.6350\n",
            "Epoch 67/100\n",
            "1/1 [==============================] - 0s 12ms/step - loss: 0.6350 - mae: 0.6350\n",
            "Epoch 68/100\n",
            "1/1 [==============================] - 0s 8ms/step - loss: 0.6350 - mae: 0.6350\n",
            "Epoch 69/100\n",
            "1/1 [==============================] - 0s 11ms/step - loss: 0.6350 - mae: 0.6350\n",
            "Epoch 70/100\n",
            "1/1 [==============================] - 0s 13ms/step - loss: 0.6350 - mae: 0.6350\n",
            "Epoch 71/100\n",
            "1/1 [==============================] - 0s 11ms/step - loss: 0.6350 - mae: 0.6350\n",
            "Epoch 72/100\n",
            "1/1 [==============================] - 0s 12ms/step - loss: 0.6350 - mae: 0.6350\n",
            "Epoch 73/100\n",
            "1/1 [==============================] - 0s 13ms/step - loss: 0.6350 - mae: 0.6350\n",
            "Epoch 74/100\n",
            "1/1 [==============================] - 0s 12ms/step - loss: 0.6350 - mae: 0.6350\n",
            "Epoch 75/100\n",
            "1/1 [==============================] - 0s 10ms/step - loss: 0.6350 - mae: 0.6350\n",
            "Epoch 76/100\n",
            "1/1 [==============================] - 0s 7ms/step - loss: 0.6350 - mae: 0.6350\n",
            "Epoch 77/100\n",
            "1/1 [==============================] - 0s 11ms/step - loss: 0.6350 - mae: 0.6350\n",
            "Epoch 78/100\n",
            "1/1 [==============================] - 0s 11ms/step - loss: 0.6350 - mae: 0.6350\n",
            "Epoch 79/100\n",
            "1/1 [==============================] - 0s 10ms/step - loss: 0.6350 - mae: 0.6350\n",
            "Epoch 80/100\n",
            "1/1 [==============================] - 0s 8ms/step - loss: 0.6350 - mae: 0.6350\n",
            "Epoch 81/100\n",
            "1/1 [==============================] - 0s 13ms/step - loss: 0.6350 - mae: 0.6350\n",
            "Epoch 82/100\n",
            "1/1 [==============================] - 0s 9ms/step - loss: 0.6350 - mae: 0.6350\n",
            "Epoch 83/100\n",
            "1/1 [==============================] - 0s 8ms/step - loss: 0.6350 - mae: 0.6350\n",
            "Epoch 84/100\n",
            "1/1 [==============================] - 0s 10ms/step - loss: 0.6350 - mae: 0.6350\n",
            "Epoch 85/100\n",
            "1/1 [==============================] - 0s 15ms/step - loss: 0.6350 - mae: 0.6350\n",
            "Epoch 86/100\n",
            "1/1 [==============================] - 0s 13ms/step - loss: 0.6350 - mae: 0.6350\n",
            "Epoch 87/100\n",
            "1/1 [==============================] - 0s 13ms/step - loss: 0.6350 - mae: 0.6350\n",
            "Epoch 88/100\n",
            "1/1 [==============================] - 0s 8ms/step - loss: 0.6350 - mae: 0.6350\n",
            "Epoch 89/100\n",
            "1/1 [==============================] - 0s 9ms/step - loss: 0.6350 - mae: 0.6350\n",
            "Epoch 90/100\n",
            "1/1 [==============================] - 0s 12ms/step - loss: 0.6350 - mae: 0.6350\n",
            "Epoch 91/100\n",
            "1/1 [==============================] - 0s 7ms/step - loss: 0.6350 - mae: 0.6350\n",
            "Epoch 92/100\n",
            "1/1 [==============================] - 0s 8ms/step - loss: 0.6350 - mae: 0.6350\n",
            "Epoch 93/100\n",
            "1/1 [==============================] - 0s 7ms/step - loss: 0.6350 - mae: 0.6350\n",
            "Epoch 94/100\n",
            "1/1 [==============================] - 0s 9ms/step - loss: 0.6350 - mae: 0.6350\n",
            "Epoch 95/100\n",
            "1/1 [==============================] - 0s 14ms/step - loss: 0.6350 - mae: 0.6350\n",
            "Epoch 96/100\n",
            "1/1 [==============================] - 0s 10ms/step - loss: 0.6350 - mae: 0.6350\n",
            "Epoch 97/100\n",
            "1/1 [==============================] - 0s 11ms/step - loss: 0.6350 - mae: 0.6350\n",
            "Epoch 98/100\n",
            "1/1 [==============================] - 0s 8ms/step - loss: 0.6350 - mae: 0.6350\n",
            "Epoch 99/100\n",
            "1/1 [==============================] - 0s 6ms/step - loss: 0.6350 - mae: 0.6350\n",
            "Epoch 100/100\n",
            "1/1 [==============================] - 0s 9ms/step - loss: 0.6350 - mae: 0.6350\n"
          ]
        },
        {
          "output_type": "execute_result",
          "data": {
            "text/plain": [
              "<keras.callbacks.History at 0x7f54bcdf5090>"
            ]
          },
          "metadata": {},
          "execution_count": 13
        }
      ]
    },
    {
      "cell_type": "code",
      "source": [
        "# Check the results of the insurance model\n",
        "insurance_model.evaluate(X_test, y_test)"
      ],
      "metadata": {
        "colab": {
          "base_uri": "https://localhost:8080/"
        },
        "id": "ZX0kdbSaU7J1",
        "outputId": "6d078321-812f-4fb9-9b32-c510964891bf"
      },
      "execution_count": 14,
      "outputs": [
        {
          "output_type": "stream",
          "name": "stdout",
          "text": [
            "1/1 [==============================] - 0s 116ms/step - loss: 0.6949 - mae: 0.6949\n"
          ]
        },
        {
          "output_type": "execute_result",
          "data": {
            "text/plain": [
              "[0.6948515772819519, 0.6948515772819519]"
            ]
          },
          "metadata": {},
          "execution_count": 14
        }
      ]
    },
    {
      "cell_type": "code",
      "source": [
        "# Set random seed\n",
        "tf.random.set_seed(42)\n",
        "\n",
        "# Add an extra layer and increase number of units\n",
        "insurance_model_2 = tf.keras.Sequential([\n",
        "  tf.keras.layers.Dense(100), # 100 units\n",
        "  tf.keras.layers.Dense(10), # 10 units\n",
        "  tf.keras.layers.Dense(1) # 1 unit (important for output layer)\n",
        "])\n",
        "\n",
        "# Compile the model\n",
        "insurance_model_2.compile(loss=tf.keras.losses.mae,\n",
        "                          optimizer=tf.keras.optimizers.Adam(), # Adam works but SGD doesn't \n",
        "                          metrics=['mae'])\n",
        "\n",
        "# Fit the model and save the history (we can plot this)\n",
        "history = insurance_model_2.fit(X_train, y_train, epochs=100, verbose=0)"
      ],
      "metadata": {
        "id": "_OcwziM2U_X9"
      },
      "execution_count": 15,
      "outputs": []
    },
    {
      "cell_type": "code",
      "source": [
        "insurance_model_2.evaluate(X_test, y_test)"
      ],
      "metadata": {
        "colab": {
          "base_uri": "https://localhost:8080/"
        },
        "id": "Mg2Lr4WhVCF3",
        "outputId": "f7b6499d-c36f-4ba4-ce0e-4b30b64ab9ef"
      },
      "execution_count": 16,
      "outputs": [
        {
          "output_type": "stream",
          "name": "stdout",
          "text": [
            "1/1 [==============================] - 0s 101ms/step - loss: 0.8535 - mae: 0.8535\n"
          ]
        },
        {
          "output_type": "execute_result",
          "data": {
            "text/plain": [
              "[0.8535204529762268, 0.8535204529762268]"
            ]
          },
          "metadata": {},
          "execution_count": 16
        }
      ]
    },
    {
      "cell_type": "code",
      "source": [
        "# Plot history (also known as a loss curve)\n",
        "pd.DataFrame(history.history).plot()\n",
        "plt.ylabel(\"loss\")\n",
        "plt.xlabel(\"epochs\");"
      ],
      "metadata": {
        "colab": {
          "base_uri": "https://localhost:8080/",
          "height": 279
        },
        "id": "3J3SOUCzVGqR",
        "outputId": "3e26fa3b-e916-470c-b6fb-613e569bd1fd"
      },
      "execution_count": 17,
      "outputs": [
        {
          "output_type": "display_data",
          "data": {
            "text/plain": [
              "<Figure size 432x288 with 1 Axes>"
            ],
            "image/png": "[encoded data removed]"
          },
          "metadata": {
            "needs_background": "light"
          }
        }
      ]
    },
    {
      "cell_type": "code",
      "source": [
        "# Try training for a little longer (100 more epochs)\n",
        "history_2 = insurance_model_2.fit(X_train, y_train, epochs=100, verbose=0)"
      ],
      "metadata": {
        "id": "QtZ3tqhjVKwf"
      },
      "execution_count": 18,
      "outputs": []
    },
    {
      "cell_type": "code",
      "source": [
        "# Evaluate the model trained for 200 total epochs\n",
        "insurance_model_2_loss, insurance_model_2_mae = insurance_model_2.evaluate(X_test, y_test)\n",
        "insurance_model_2_loss, insurance_model_2_mae"
      ],
      "metadata": {
        "colab": {
          "base_uri": "https://localhost:8080/"
        },
        "id": "6q87NBZRVMvG",
        "outputId": "6d6349ad-c6ff-4299-a68e-523a17a74458"
      },
      "execution_count": 19,
      "outputs": [
        {
          "output_type": "stream",
          "name": "stdout",
          "text": [
            "1/1 [==============================] - 0s 19ms/step - loss: 0.8539 - mae: 0.8539\n"
          ]
        },
        {
          "output_type": "execute_result",
          "data": {
            "text/plain": [
              "(0.8539116978645325, 0.8539116978645325)"
            ]
          },
          "metadata": {},
          "execution_count": 19
        }
      ]
    },
    {
      "cell_type": "code",
      "source": [
        "# Plot the model trained for 200 total epochs loss curves\n",
        "pd.DataFrame(history_2.history).plot()\n",
        "plt.ylabel(\"loss\")\n",
        "plt.xlabel(\"epochs\"); # note: epochs will only show 100 since we overrid the history variable"
      ],
      "metadata": {
        "colab": {
          "base_uri": "https://localhost:8080/",
          "height": 290
        },
        "id": "4cmW0GQUVPan",
        "outputId": "7b9df6d6-8812-4816-b224-5b908c85e1ce"
      },
      "execution_count": 20,
      "outputs": [
        {
          "output_type": "display_data",
          "data": {
            "text/plain": [
              "<Figure size 432x288 with 1 Axes>"
            ],
            "image/png": "[encoded data removed]"
          },
          "metadata": {
            "needs_background": "light"
          }
        }
      ]
    }
  ]
}