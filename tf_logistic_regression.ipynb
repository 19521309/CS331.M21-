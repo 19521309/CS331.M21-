{
  "nbformat": 4,
  "nbformat_minor": 0,
  "metadata": {
    "colab": {
      "name": "tf_logistic_regression.ipynb",
      "provenance": [],
      "authorship_tag": "ABX9TyNuasAuuh+OieOROw2e4kBt",
      "include_colab_link": true
    },
    "kernelspec": {
      "name": "python3",
      "display_name": "Python 3"
    },
    "language_info": {
      "name": "python"
    }
  },
  "cells": [
    {
      "cell_type": "markdown",
      "metadata": {
        "id": "view-in-github",
        "colab_type": "text"
      },
      "source": [
        "<a href=\"https://colab.research.google.com/github/19521309/CS331.M21-/blob/main/tf_logistic_regression.ipynb\" target=\"_parent\"><img src=\"https://colab.research.google.com/assets/colab-badge.svg\" alt=\"Open In Colab\"/></a>"
      ]
    },
    {
      "cell_type": "code",
      "source": [
        "# importing modules\n",
        "import numpy as np\n",
        "import pandas as pd\n",
        "import tensorflow.compat.v1 as tf\n",
        "tf.disable_v2_behavior()\n",
        "import matplotlib.pyplot as plt\n",
        "from sklearn.preprocessing import OneHotEncoder"
      ],
      "metadata": {
        "colab": {
          "base_uri": "https://localhost:8080/"
        },
        "id": "OmpL99KNqASc",
        "outputId": "61267000-b47c-44dd-9edf-55bf14a9bc4a"
      },
      "execution_count": null,
      "outputs": [
        {
          "output_type": "stream",
          "name": "stdout",
          "text": [
            "WARNING:tensorflow:From /usr/local/lib/python3.7/dist-packages/tensorflow/python/compat/v2_compat.py:107: disable_resource_variables (from tensorflow.python.ops.variable_scope) is deprecated and will be removed in a future version.\n",
            "Instructions for updating:\n",
            "non-resource variables are not supported in the long term\n"
          ]
        }
      ]
    },
    {
      "cell_type": "code",
      "source": [
        "center1 = (55, 60)\n",
        "center2 = (80, 20)\n",
        "distance = 20\n",
        "\n",
        "\n",
        "x1 = np.random.uniform(center1[0], center1[0] + distance, size=(100,))\n",
        "y1 = np.random.normal(center1[1], distance, size=(100,)) \n",
        "\n",
        "x2 = np.random.uniform(center2[0], center2[0] + distance, size=(100,))\n",
        "y2 = np.random.normal(center2[1], distance, size=(100,)) "
      ],
      "metadata": {
        "id": "PcBqPjGqThzg"
      },
      "execution_count": null,
      "outputs": []
    },
    {
      "cell_type": "code",
      "source": [
        "def pred(W, X):\n",
        "    \"\"\"\n",
        "    predict output of each columns of X\n",
        "    Class of each x_i is determined by location of max probability\n",
        "    Note that class are indexed by [0, 1, 2, ...., C-1]\n",
        "    \"\"\"\n",
        "    A = softmax_stable(W.T.dot(X))\n",
        "    return np.argmax(A, axis = 0)"
      ],
      "metadata": {
        "id": "FK3tNYjLk2Es"
      },
      "execution_count": null,
      "outputs": []
    },
    {
      "cell_type": "code",
      "source": [
        "plt.scatter(x1,y1,color = 'red')\n",
        "plt.scatter(x2,y2,color = 'blue')\n",
        "plt.show()"
      ],
      "metadata": {
        "colab": {
          "base_uri": "https://localhost:8080/",
          "height": 265
        },
        "id": "Iv2AlVVaXLzE",
        "outputId": "23f2e47e-1354-4d81-bdbe-d8d47074cf76"
      },
      "execution_count": null,
      "outputs": [
        {
          "output_type": "display_data",
          "data": {
            "text/plain": [
              "<Figure size 432x288 with 1 Axes>"
            ],
            "image/png": "[encoded data removed]"
          },
          "metadata": {
            "needs_background": "light"
          }
        }
      ]
    },
    {
      "cell_type": "code",
      "source": [
        "import numpy as np\n",
        "import matplotlib.pyplot as plt\n",
        "  \n",
        "def sigmoid(z):\n",
        "    sig =  1 / (1 + np.exp( - z))\n",
        "    sig = tf.math.minimum(sig,0.99999999999999999999999999999999)\n",
        "    sig = tf.math.maximum(sig,0.00000000000000000000000000000000)\n",
        "    return sig\n"
      ],
      "metadata": {
        "id": "CutHhmuzrBrr"
      },
      "execution_count": null,
      "outputs": []
    },
    {
      "cell_type": "code",
      "source": [
        "x = (x1,x2)\n",
        "\n",
        "y = (y1,y2)"
      ],
      "metadata": {
        "id": "awfY4U4XEKjW"
      },
      "execution_count": null,
      "outputs": []
    },
    {
      "cell_type": "code",
      "source": [
        "def init_theta():\n",
        "\treturn [1.0, 1.0]\n",
        "theta = init_theta()"
      ],
      "metadata": {
        "id": "Gc0VpfwYG5LT"
      },
      "execution_count": null,
      "outputs": []
    },
    {
      "cell_type": "code",
      "source": [
        "def LossFrunction(y):\n",
        "  prediction = sigmoid(tf.matmul(tf.transpose(theta),x))\n",
        "  return - tf.math.reduce_mean(y*tf.math.log(prediction) + (1-y)*tf.math.log(1-prediction))"
      ],
      "metadata": {
        "id": "NuFxbauQDjRO"
      },
      "execution_count": null,
      "outputs": []
    },
    {
      "cell_type": "code",
      "source": [
        "eps = 0.01\n",
        "opt = tf.keras.optimizers.SGD(learning_rate=0.01)\n",
        "count_epoch = 1\n",
        "epoch = 1000"
      ],
      "metadata": {
        "id": "v-qwpaEtEhr0"
      },
      "execution_count": null,
      "outputs": []
    },
    {
      "cell_type": "code",
      "source": [
        "epsilon=1e-6"
      ],
      "metadata": {
        "id": "QjG3PHk7FvQQ"
      },
      "execution_count": null,
      "outputs": []
    },
    {
      "cell_type": "code",
      "source": [
        "while True:\n",
        "  with tf.GradientTape() as tape:\n",
        "    loss = LossFrunction(theta)\n",
        "  grads = tape.gradient(loss,theta)\n",
        "  opt.apply_gradients(zip(grads,theta))\n",
        "  print()\n",
        "  if tf.experimental.all((tf.math.abs(grads)<epsilon)) or count_epoch == epoch:\n",
        "    break\n",
        "  count_epoch += 1"
      ],
      "metadata": {
        "colab": {
          "base_uri": "https://localhost:8080/",
          "height": 1000
        },
        "id": "07dlUAClExwV",
        "outputId": "20f07260-b286-47bd-fef0-0c917e59ba43"
      },
      "execution_count": null,
      "outputs": [
        {
          "output_type": "error",
          "ename": "ValueError",
          "evalue": "ignored",
          "traceback": [
            "\u001b[0;31m---------------------------------------------------------------------------\u001b[0m",
            "\u001b[0;31mValueError\u001b[0m                                Traceback (most recent call last)",
            "\u001b[0;32m<ipython-input-11-9ea317d03f6e>\u001b[0m in \u001b[0;36m<module>\u001b[0;34m()\u001b[0m\n\u001b[1;32m      1\u001b[0m \u001b[0;32mwhile\u001b[0m \u001b[0;32mTrue\u001b[0m\u001b[0;34m:\u001b[0m\u001b[0;34m\u001b[0m\u001b[0;34m\u001b[0m\u001b[0m\n\u001b[1;32m      2\u001b[0m   \u001b[0;32mwith\u001b[0m \u001b[0mtf\u001b[0m\u001b[0;34m.\u001b[0m\u001b[0mGradientTape\u001b[0m\u001b[0;34m(\u001b[0m\u001b[0;34m)\u001b[0m \u001b[0;32mas\u001b[0m \u001b[0mtape\u001b[0m\u001b[0;34m:\u001b[0m\u001b[0;34m\u001b[0m\u001b[0;34m\u001b[0m\u001b[0m\n\u001b[0;32m----> 3\u001b[0;31m     \u001b[0mloss\u001b[0m \u001b[0;34m=\u001b[0m \u001b[0mLossFrunction\u001b[0m\u001b[0;34m(\u001b[0m\u001b[0mtheta\u001b[0m\u001b[0;34m)\u001b[0m\u001b[0;34m\u001b[0m\u001b[0;34m\u001b[0m\u001b[0m\n\u001b[0m\u001b[1;32m      4\u001b[0m   \u001b[0mgrads\u001b[0m \u001b[0;34m=\u001b[0m \u001b[0mtape\u001b[0m\u001b[0;34m.\u001b[0m\u001b[0mgradient\u001b[0m\u001b[0;34m(\u001b[0m\u001b[0mloss\u001b[0m\u001b[0;34m,\u001b[0m\u001b[0mtheta\u001b[0m\u001b[0;34m)\u001b[0m\u001b[0;34m\u001b[0m\u001b[0;34m\u001b[0m\u001b[0m\n\u001b[1;32m      5\u001b[0m   \u001b[0mopt\u001b[0m\u001b[0;34m.\u001b[0m\u001b[0mapply_gradients\u001b[0m\u001b[0;34m(\u001b[0m\u001b[0mzip\u001b[0m\u001b[0;34m(\u001b[0m\u001b[0mgrads\u001b[0m\u001b[0;34m,\u001b[0m\u001b[0mtheta\u001b[0m\u001b[0;34m)\u001b[0m\u001b[0;34m)\u001b[0m\u001b[0;34m\u001b[0m\u001b[0;34m\u001b[0m\u001b[0m\n",
            "\u001b[0;32m<ipython-input-8-a12b40652c60>\u001b[0m in \u001b[0;36mLossFrunction\u001b[0;34m(y)\u001b[0m\n\u001b[1;32m      1\u001b[0m \u001b[0;32mdef\u001b[0m \u001b[0mLossFrunction\u001b[0m\u001b[0;34m(\u001b[0m\u001b[0my\u001b[0m\u001b[0;34m)\u001b[0m\u001b[0;34m:\u001b[0m\u001b[0;34m\u001b[0m\u001b[0;34m\u001b[0m\u001b[0m\n\u001b[0;32m----> 2\u001b[0;31m   \u001b[0mprediction\u001b[0m \u001b[0;34m=\u001b[0m \u001b[0msigmoid\u001b[0m\u001b[0;34m(\u001b[0m\u001b[0mtf\u001b[0m\u001b[0;34m.\u001b[0m\u001b[0mmatmul\u001b[0m\u001b[0;34m(\u001b[0m\u001b[0mtf\u001b[0m\u001b[0;34m.\u001b[0m\u001b[0mtranspose\u001b[0m\u001b[0;34m(\u001b[0m\u001b[0mtheta\u001b[0m\u001b[0;34m)\u001b[0m\u001b[0;34m,\u001b[0m\u001b[0mx\u001b[0m\u001b[0;34m)\u001b[0m\u001b[0;34m)\u001b[0m\u001b[0;34m\u001b[0m\u001b[0;34m\u001b[0m\u001b[0m\n\u001b[0m\u001b[1;32m      3\u001b[0m   \u001b[0;32mreturn\u001b[0m \u001b[0;34m-\u001b[0m \u001b[0mtf\u001b[0m\u001b[0;34m.\u001b[0m\u001b[0mmath\u001b[0m\u001b[0;34m.\u001b[0m\u001b[0mreduce_mean\u001b[0m\u001b[0;34m(\u001b[0m\u001b[0my\u001b[0m\u001b[0;34m*\u001b[0m\u001b[0mtf\u001b[0m\u001b[0;34m.\u001b[0m\u001b[0mmath\u001b[0m\u001b[0;34m.\u001b[0m\u001b[0mlog\u001b[0m\u001b[0;34m(\u001b[0m\u001b[0mprediction\u001b[0m\u001b[0;34m)\u001b[0m \u001b[0;34m+\u001b[0m \u001b[0;34m(\u001b[0m\u001b[0;36m1\u001b[0m\u001b[0;34m-\u001b[0m\u001b[0my\u001b[0m\u001b[0;34m)\u001b[0m\u001b[0;34m*\u001b[0m\u001b[0mtf\u001b[0m\u001b[0;34m.\u001b[0m\u001b[0mmath\u001b[0m\u001b[0;34m.\u001b[0m\u001b[0mlog\u001b[0m\u001b[0;34m(\u001b[0m\u001b[0;36m1\u001b[0m\u001b[0;34m-\u001b[0m\u001b[0mprediction\u001b[0m\u001b[0;34m)\u001b[0m\u001b[0;34m)\u001b[0m\u001b[0;34m\u001b[0m\u001b[0;34m\u001b[0m\u001b[0m\n",
            "\u001b[0;32m/usr/local/lib/python3.7/dist-packages/tensorflow/python/util/traceback_utils.py\u001b[0m in \u001b[0;36merror_handler\u001b[0;34m(*args, **kwargs)\u001b[0m\n\u001b[1;32m    151\u001b[0m     \u001b[0;32mexcept\u001b[0m \u001b[0mException\u001b[0m \u001b[0;32mas\u001b[0m \u001b[0me\u001b[0m\u001b[0;34m:\u001b[0m\u001b[0;34m\u001b[0m\u001b[0;34m\u001b[0m\u001b[0m\n\u001b[1;32m    152\u001b[0m       \u001b[0mfiltered_tb\u001b[0m \u001b[0;34m=\u001b[0m \u001b[0m_process_traceback_frames\u001b[0m\u001b[0;34m(\u001b[0m\u001b[0me\u001b[0m\u001b[0;34m.\u001b[0m\u001b[0m__traceback__\u001b[0m\u001b[0;34m)\u001b[0m\u001b[0;34m\u001b[0m\u001b[0;34m\u001b[0m\u001b[0m\n\u001b[0;32m--> 153\u001b[0;31m       \u001b[0;32mraise\u001b[0m \u001b[0me\u001b[0m\u001b[0;34m.\u001b[0m\u001b[0mwith_traceback\u001b[0m\u001b[0;34m(\u001b[0m\u001b[0mfiltered_tb\u001b[0m\u001b[0;34m)\u001b[0m \u001b[0;32mfrom\u001b[0m \u001b[0;32mNone\u001b[0m\u001b[0;34m\u001b[0m\u001b[0;34m\u001b[0m\u001b[0m\n\u001b[0m\u001b[1;32m    154\u001b[0m     \u001b[0;32mfinally\u001b[0m\u001b[0;34m:\u001b[0m\u001b[0;34m\u001b[0m\u001b[0;34m\u001b[0m\u001b[0m\n\u001b[1;32m    155\u001b[0m       \u001b[0;32mdel\u001b[0m \u001b[0mfiltered_tb\u001b[0m\u001b[0;34m\u001b[0m\u001b[0;34m\u001b[0m\u001b[0m\n",
            "\u001b[0;32m/usr/local/lib/python3.7/dist-packages/tensorflow/python/framework/tensor_util.py\u001b[0m in \u001b[0;36mmake_tensor_proto\u001b[0;34m(values, dtype, shape, verify_shape, allow_broadcast)\u001b[0m\n\u001b[1;32m    457\u001b[0m       if (list(nparray.shape) != _GetDenseDimensions(values) and\n\u001b[1;32m    458\u001b[0m           not is_quantized):\n\u001b[0;32m--> 459\u001b[0;31m         raise ValueError(f\"Expected values {values} to be a dense tensor with \"\n\u001b[0m\u001b[1;32m    460\u001b[0m                          \u001b[0;34mf\"shape {_GetDenseDimensions(values)}, but got shape \"\u001b[0m\u001b[0;34m\u001b[0m\u001b[0;34m\u001b[0m\u001b[0m\n\u001b[1;32m    461\u001b[0m                          f\"{list(nparray.shape)}.\")\n",
            "\u001b[0;31mValueError\u001b[0m: Expected values (array([61.90657385, 60.0116216 , 52.12195806, 57.13514621, 52.8354848 ,\n       67.52600603, 68.92245874, 62.37275947, 54.48096397, 55.30394188,\n       51.20904705, 66.35665378, 57.43831166, 65.92856295, 58.70993342,\n       50.45067572, 63.09045224, 59.20204927, 58.47603414, 60.27334819,\n       57.92588376, 56.8142037 , 58.44757023, 52.30081627, 58.46460734,\n       50.00018193, 55.56755724, 54.03475671, 53.68014028, 68.7695458 ,\n       66.665138  , 52.0230115 , 64.53004418, 55.1496372 , 63.46072363,\n       65.51116888, 60.46735653, 55.60687992, 58.08967072, 59.61894625,\n       60.76298988, 64.56753239, 50.01632752, 67.38133696, 65.15525008,\n       59.64594171, 62.82024231, 53.96277805, 65.53418475, 62.14465725,\n       66.38379183, 63.72141268, 63.53499764, 69.5605267 , 52.35021443,\n       50.15895782, 68.83795611, 66.32931792, 56.90361283, 66.18786341,\n       63.80762842, 50.37539287, 57.77385962, 57.8430091 , 51.16542942,\n       66.30016268, 50.20543694, 61.07795371, 63.8332073 , 62.85128071,\n       65.32026845, 60.71724134, 51.29101092, 57.94082725, 64.21560254,\n       62.51674923, 50.35004068, 68.63837469, 50.81317704, 65.67536008,\n       65.85131947, 63.53648899, 56.63351913, 61.31779951, 67.87857172,\n       68.93610741, 56.33363232, 59.69133537, 55.48207666, 57.87225881,\n       63.62433325, 60.94477015, 63.78259631, 66.66884247, 62.87275163,\n       53.91343616, 67.87056336, 58.61044174, 68.44522744, 65.2415045 ]), array([88.65079858, 82.92239433, 83.79220181, 88.20120459, 87.85027113,\n       91.23884716, 85.25378104, 85.83712625, 91.42922022, 93.49338111,\n       89.1445117 , 97.68024283, 98.77451646, 88.47059907, 94.62654888,\n       81.1264112 , 81.64175244, 94.4613065 , 94.05037171, 83.93041458,\n       84.60414474, 96.00594451, 95.3269801 , 93.51291285, 95.94286755,\n       86.70712279, 80.06043653, 90.12916038, 90.32289084, 94.93746864,\n       94.52968707, 97.7443397 , 83.86520833, 86.10539623, 95.69642049,\n       93.92573793, 91.71830445, 88.16501367, 88.29321157, 94.42906057,\n       86.13413183, 94.68511863, 84.15664717, 87.75454291, 92.20100534,\n       82.31689761, 81.29423016, 94.00337849, 87.54513348, 90.21510471,\n       95.57792011, 80.53968701, 97.15524756, 95.15443479, 97.14813509,\n       88.68338243, 81.21819214, 97.97914606, 93.46612111, 99.53521079,\n       82.69185489, 91.72197914, 91.0074112 , 85.98691445, 92.52111556,\n       93.08387267, 92.64880603, 89.69628449, 91.04230853, 85.33812318,\n       80.92807955, 82.6714802 , 93.48276214, 88.80941359, 94.88070242,\n       91.1084418 , 82.12124989, 83.99544975, 93.81221239, 88.75165632,\n       94.81120977, 91.40037308, 87.87626598, 99.29629106, 96.58944316,\n       89.44773327, 92.64792463, 93.23648857, 86.38253572, 96.74798194,\n       89.89218935, 83.73475911, 94.31217965, 83.20090626, 99.92156066,\n       96.05756336, 94.09390316, 88.01913955, 91.96801368, 86.1175443 ])) to be a dense tensor with shape [2], but got shape [2, 100]."
          ]
        }
      ]
    }
  ]
}