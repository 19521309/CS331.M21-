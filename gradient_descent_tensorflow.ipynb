{
  "nbformat": 4,
  "nbformat_minor": 0,
  "metadata": {
    "colab": {
      "name": "Untitled5.ipynb",
      "provenance": [],
      "authorship_tag": "ABX9TyPWj5JWV4VanZaFgqSHpq+O",
      "include_colab_link": true
    },
    "kernelspec": {
      "name": "python3",
      "display_name": "Python 3"
    },
    "language_info": {
      "name": "python"
    }
  },
  "cells": [
    {
      "cell_type": "markdown",
      "metadata": {
        "id": "view-in-github",
        "colab_type": "text"
      },
      "source": [
        "<a href=\"https://colab.research.google.com/github/19521309/CS331.M21-/blob/main/gradient_descent_tensorflow.ipynb\" target=\"_parent\"><img src=\"https://colab.research.google.com/assets/colab-badge.svg\" alt=\"Open In Colab\"/></a>"
      ]
    },
    {
      "cell_type": "code",
      "execution_count": 1,
      "metadata": {
        "id": "Ko6mlcNgfPjR"
      },
      "outputs": [],
      "source": [
        "import numpy as np\n",
        "import tensorflow as tf"
      ]
    },
    {
      "cell_type": "markdown",
      "source": [
        "Dinh nghia ham Loss"
      ],
      "metadata": {
        "id": "ki4AQAjJffGQ"
      }
    },
    {
      "cell_type": "code",
      "source": [
        "theta = tf.Variable(-4.0)\n",
        "loss = lambda : theta**2 - 4*theta + 10\n",
        "eps = 0.0001"
      ],
      "metadata": {
        "id": "sOw_-jBOfcvx"
      },
      "execution_count": 2,
      "outputs": []
    },
    {
      "cell_type": "code",
      "source": [
        "opt = tf.keras.optimizers.SGD(learning_rate = 0.1)\n",
        "\n",
        "for iter in range(100):\n",
        "  opt.minimize(loss, var_list = [theta])\n",
        "\n",
        "print(theta)"
      ],
      "metadata": {
        "colab": {
          "base_uri": "https://localhost:8080/"
        },
        "id": "ge4j4Oz8f69Z",
        "outputId": "a1cb6d14-196f-4df7-bb40-62c4b2e199df"
      },
      "execution_count": 3,
      "outputs": [
        {
          "output_type": "stream",
          "name": "stdout",
          "text": [
            "<tf.Variable 'Variable:0' shape=() dtype=float32, numpy=1.9999998>\n"
          ]
        }
      ]
    },
    {
      "cell_type": "markdown",
      "source": [
        ""
      ],
      "metadata": {
        "id": "jFLDeSdThNWY"
      }
    },
    {
      "cell_type": "code",
      "source": [
        "@tf.function\n",
        "def Loss(theta):\n",
        "  return theta**2 - 4*theta + 10"
      ],
      "metadata": {
        "id": "_13vM-YphTif"
      },
      "execution_count": 4,
      "outputs": []
    },
    {
      "cell_type": "code",
      "source": [
        "while True:\n",
        "  with tf.GradientTape() as tape:\n",
        "    loss = Loss(theta)\n",
        "    print(loss)\n",
        "  grads = tape.gradient(loss, [theta])\n",
        "  print(grads)\n",
        "  opt.apply_gradients(zip(grads,[theta]))\n",
        "  if grads[0].numpy() < eps:\n",
        "    break\n",
        "print(theta)"
      ],
      "metadata": {
        "colab": {
          "base_uri": "https://localhost:8080/"
        },
        "id": "jh5Dd3L_hegQ",
        "outputId": "c58e0c37-5a94-41b2-fbaa-5e0f58507188"
      },
      "execution_count": 5,
      "outputs": [
        {
          "output_type": "stream",
          "name": "stdout",
          "text": [
            "tf.Tensor(6.0, shape=(), dtype=float32)\n",
            "[<tf.Tensor: shape=(), dtype=float32, numpy=-4.7683716e-07>]\n",
            "<tf.Variable 'Variable:0' shape=() dtype=float32, numpy=1.9999998>\n"
          ]
        }
      ]
    }
  ]
}