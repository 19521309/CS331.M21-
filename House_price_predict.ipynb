{
  "cells": [
    {
      "cell_type": "code",
      "execution_count": 1,
      "metadata": {
        "id": "oo-3KIA5cDUV"
      },
      "outputs": [],
      "source": [
        "# Cài đặt các thư viện cần thiết\n",
        "\n",
        "import numpy as np # linear algebra\n",
        "import pandas as pd # load dữ liệu (file .csv)\n",
        "import matplotlib.pyplot as plt\n",
        "import matplotlib.animation as animation\n",
        "from scipy.optimize import minimize\n",
        "\n",
        "# Input data files are available in the read-only \"../input/\" directory\n",
        "# For example, running this (by clicking run or pressing Shift+Enter) will list all files under the input directory\n",
        "\n",
        "import os\n",
        "for dirname, _, filenames in os.walk('/kaggle/input'):\n",
        "    for filename in filenames:\n",
        "        print(os.path.join(dirname, filename))\n",
        "\n"
      ]
    },
    {
      "cell_type": "code",
      "execution_count": 4,
      "metadata": {
        "id": "PHsU2enrcGFT"
      },
      "outputs": [],
      "source": [
        "# Load dữ liệu train \n",
        "full_data = pd.read_csv('/content/train.csv')"
      ]
    },
    {
      "cell_type": "code",
      "execution_count": 5,
      "metadata": {
        "id": "XWIXm4pVcIJg"
      },
      "outputs": [],
      "source": [
        "# Láy giá trị X, Y từ bộ dữ liệu\n",
        "X = full_data['GrLivArea']\n",
        "y = full_data['SalePrice']"
      ]
    },
    {
      "cell_type": "code",
      "execution_count": 6,
      "metadata": {
        "id": "cXm0OBd_cJ1H"
      },
      "outputs": [],
      "source": [
        "# Thay đổi giá trị của X\n",
        "# Nhân ma trận X với ma trận gồm những phần tử là 1 có kích thước bằng ma trận X\n",
        "X = (X - X.mean()) / X.std()\n",
        "X = np.c_[np.ones(X.shape[0]), X] "
      ]
    },
    {
      "cell_type": "code",
      "execution_count": 7,
      "metadata": {
        "id": "-AfIN42fcLvS"
      },
      "outputs": [],
      "source": [
        "# Tách tập train và test\n",
        "from sklearn.model_selection import train_test_split\n",
        "\n",
        "X_train, X_test, y_train, y_test = train_test_split(X, y, test_size=0.25, random_state=42)"
      ]
    },
    {
      "cell_type": "code",
      "execution_count": 8,
      "metadata": {
        "id": "4sM7aQRrcN6-"
      },
      "outputs": [],
      "source": [
        "# Khởi tạo giá trị\n",
        "learning_rate = 0.01\n",
        "iterations = 10000\n",
        "m = y_train.shape[0]\n",
        "theta = np.zeros(2)"
      ]
    },
    {
      "cell_type": "code",
      "execution_count": 9,
      "metadata": {
        "id": "keEQxmoocP2u"
      },
      "outputs": [],
      "source": [
        "# Định nghĩa hàm predict có giá trị bằng tích của X và theta\n",
        "def predict(X, theta):\n",
        "    return np.dot(X, theta)"
      ]
    },
    {
      "cell_type": "code",
      "execution_count": 10,
      "metadata": {
        "id": "wZeBnSIYcSK3"
      },
      "outputs": [],
      "source": [
        "# Tìm kiếm theta sao cho hàm Loss Function có giá trị nhỏ nhất\n",
        "def gradient_descent(X, y, theta, iterations, learning_rate):\n",
        "    losses = []\n",
        "    thetas = [theta]\n",
        "    for i in range(iterations):\n",
        "        y_pred = predict(X, theta)\n",
        "        error = y_pred - y\n",
        "        loss = 1/(2*m) * np.dot(error.T, error)\n",
        "        losses.append(loss)\n",
        "        theta = theta - (learning_rate * (1/m) * np.dot(X.T, error))\n",
        "        thetas.append(theta)\n",
        "        \n",
        "    return thetas, losses"
      ]
    },
    {
      "cell_type": "code",
      "execution_count": 11,
      "metadata": {
        "id": "3G4dENMYcUV9"
      },
      "outputs": [],
      "source": [
        "thetas, losses = gradient_descent(X_train, y_train, theta, iterations, learning_rate)\n",
        "theta = thetas[-1]"
      ]
    },
    {
      "cell_type": "code",
      "execution_count": 12,
      "metadata": {
        "colab": {
          "base_uri": "https://localhost:8080/",
          "height": 295
        },
        "id": "9Okr4iSTcWZk",
        "outputId": "ea5d7b4b-7867-4ec7-988c-93fd9b6e1d52"
      },
      "outputs": [
        {
          "data": {
            "image/png": "[encoded data removed]",
            "text/plain": [
              "<Figure size 432x288 with 1 Axes>"
            ]
          },
          "metadata": {
            "needs_background": "light"
          },
          "output_type": "display_data"
        }
      ],
      "source": [
        "# Hiển thị kết quả\n",
        "plt.title('Loss Function J')\n",
        "plt.xlabel('No. of iterations')\n",
        "plt.ylabel('Cost')\n",
        "plt.plot(losses)\n",
        "plt.show()"
      ]
    },
    {
      "cell_type": "code",
      "execution_count": 13,
      "metadata": {
        "id": "zacYSKHVcYMO"
      },
      "outputs": [],
      "source": [
        "Y_pred = theta[0] + theta[1] * X_test"
      ]
    },
    {
      "cell_type": "code",
      "execution_count": 14,
      "metadata": {
        "id": "aZnK2sUTcZvN"
      },
      "outputs": [],
      "source": [
        "X_test_draw = np.delete(X_test, 0, 1) "
      ]
    },
    {
      "cell_type": "code",
      "execution_count": 15,
      "metadata": {
        "id": "5md_SbshcdK1"
      },
      "outputs": [],
      "source": [
        "Y_pred_draw = np.delete(Y_pred, 0, 1)"
      ]
    },
    {
      "cell_type": "code",
      "execution_count": 16,
      "metadata": {
        "colab": {
          "base_uri": "https://localhost:8080/",
          "height": 265
        },
        "id": "md1W02A2cer3",
        "outputId": "48e72bb7-0ef8-4edd-be45-e89396800441"
      },
      "outputs": [
        {
          "data": {
            "image/png": "[encoded data removed]",
            "text/plain": [
              "<Figure size 432x288 with 1 Axes>"
            ]
          },
          "metadata": {
            "needs_background": "light"
          },
          "output_type": "display_data"
        }
      ],
      "source": [
        "plt.scatter(X_test_draw, y_test)\n",
        "plt.plot(X_test_draw, Y_pred_draw, color='red')\n",
        "plt.show()"
      ]
    },
    {
      "cell_type": "code",
      "execution_count": 17,
      "metadata": {
        "id": "LhKPrAQYcgnB"
      },
      "outputs": [],
      "source": [
        "# So sánh kết quả với kết quả của mô hình Linear Regression của thư viện sklearn\n",
        "# Có thể thấy kết quả gần như tương tự\n",
        "from sklearn.linear_model import LinearRegression\n",
        "\n",
        "reg_model = LinearRegression()\n",
        "reg_model.fit(X_train, y_train)\n",
        "\n",
        "reg_pred = reg_model.predict(X_test)"
      ]
    },
    {
      "cell_type": "code",
      "execution_count": 18,
      "metadata": {
        "colab": {
          "base_uri": "https://localhost:8080/",
          "height": 265
        },
        "id": "-Zy5b3YqclP8",
        "outputId": "06af8b7f-8247-413a-9098-e1c320b2a5cc"
      },
      "outputs": [
        {
          "data": {
            "image/png": "[encoded data removed]",
            "text/plain": [
              "<Figure size 432x288 with 1 Axes>"
            ]
          },
          "metadata": {
            "needs_background": "light"
          },
          "output_type": "display_data"
        }
      ],
      "source": [
        "plt.scatter(X_test_draw, y_test)\n",
        "plt.plot(X_test_draw, reg_pred, color='red')\n",
        "plt.show()"
      ]
    },
    {
      "cell_type": "code",
      "execution_count": 20,
      "metadata": {
        "colab": {
          "base_uri": "https://localhost:8080/"
        },
        "id": "5ESP0tn6cqrv",
        "outputId": "a4b618cc-a998-4caa-f448-83d96f75e5d6"
      },
      "outputs": [
        {
          "data": {
            "text/plain": [
              "array([180098.42294697,  53844.68407667])"
            ]
          },
          "execution_count": 20,
          "metadata": {},
          "output_type": "execute_result"
        }
      ],
      "source": [
        "theta"
      ]
    },
    {
      "cell_type": "code",
      "execution_count": 21,
      "metadata": {
        "id": "FFPNZA0DctHV"
      },
      "outputs": [],
      "source": [
        "# Tính MSES\n",
        "import math\n",
        "from sklearn.metrics import mean_squared_error\n",
        "\n",
        "def root_mean_squared_log_error(y_valid, y_preds):\n",
        "    \"\"\"Calculate root mean squared error of log(y_true) and log(y_pred)\"\"\"\n",
        "    if len(y_preds)!=len(y_valid): return 'error_mismatch'\n",
        "    y_preds_new = [math.log(x) for x in y_preds]\n",
        "    y_valid_new = [math.log(x) for x in y_valid]\n",
        "    return mean_squared_error(y_valid_new, y_preds_new, squared=False)"
      ]
    },
    {
      "cell_type": "code",
      "execution_count": 22,
      "metadata": {
        "colab": {
          "base_uri": "https://localhost:8080/"
        },
        "id": "Mbj-BzxIcupb",
        "outputId": "943d994d-d253-4581-971a-d5239895d552"
      },
      "outputs": [
        {
          "data": {
            "text/plain": [
              "0.2748269606496895"
            ]
          },
          "execution_count": 22,
          "metadata": {},
          "output_type": "execute_result"
        }
      ],
      "source": [
        "root_mean_squared_log_error(y_test, Y_pred_draw)"
      ]
    },
    {
      "cell_type": "code",
      "execution_count": 23,
      "metadata": {
        "colab": {
          "base_uri": "https://localhost:8080/"
        },
        "id": "cKjU_OmpcwWa",
        "outputId": "069714e7-09ff-47f4-9b6b-d238f468972a"
      },
      "outputs": [
        {
          "data": {
            "text/plain": [
              "0.27482696064969087"
            ]
          },
          "execution_count": 23,
          "metadata": {},
          "output_type": "execute_result"
        }
      ],
      "source": [
        "root_mean_squared_log_error(y_test, reg_pred)"
      ]
    }
  ],
  "metadata": {
    "colab": {
      "collapsed_sections": [],
      "name": "house.ipynb",
      "provenance": []
    },
    "kernelspec": {
      "display_name": "Python 3",
      "name": "python3"
    },
    "language_info": {
      "name": "python"
    }
  },
  "nbformat": 4,
  "nbformat_minor": 0
}
